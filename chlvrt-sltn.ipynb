{
 "cells": [
  {
   "cell_type": "markdown",
   "id": "8e9099e6",
   "metadata": {},
   "source": [
    "Week 6 - Project\n",
    "------------------------\n",
    "\n",
    "#### Exploring the European Soccer Database: Can Goalkeepers take free kicks?"
   ]
  },
  {
   "cell_type": "code",
   "execution_count": 1,
   "id": "cba4e112",
   "metadata": {},
   "outputs": [],
   "source": [
    "import sqlite3\n",
    "import pandas as pd\n",
    "import numpy as np\n",
    "import matplotlib.pyplot as plt"
   ]
  },
  {
   "cell_type": "markdown",
   "id": "e05c6ceb",
   "metadata": {},
   "source": [
    "Reading the database:"
   ]
  },
  {
   "cell_type": "code",
   "execution_count": 2,
   "id": "dc9063a2",
   "metadata": {},
   "outputs": [],
   "source": [
    "cnx = sqlite3.connect('database.sqlite')\n",
    "df = pd.read_sql_query(\"SELECT * FROM Player_Attributes\", cnx)"
   ]
  },
  {
   "cell_type": "code",
   "execution_count": 3,
   "id": "559c3a6f",
   "metadata": {},
   "outputs": [
    {
     "data": {
      "text/html": [
       "<div>\n",
       "<style scoped>\n",
       "    .dataframe tbody tr th:only-of-type {\n",
       "        vertical-align: middle;\n",
       "    }\n",
       "\n",
       "    .dataframe tbody tr th {\n",
       "        vertical-align: top;\n",
       "    }\n",
       "\n",
       "    .dataframe thead th {\n",
       "        text-align: right;\n",
       "    }\n",
       "</style>\n",
       "<table border=\"1\" class=\"dataframe\">\n",
       "  <thead>\n",
       "    <tr style=\"text-align: right;\">\n",
       "      <th></th>\n",
       "      <th>id</th>\n",
       "      <th>player_fifa_api_id</th>\n",
       "      <th>player_api_id</th>\n",
       "      <th>date</th>\n",
       "      <th>overall_rating</th>\n",
       "      <th>potential</th>\n",
       "      <th>preferred_foot</th>\n",
       "      <th>attacking_work_rate</th>\n",
       "      <th>defensive_work_rate</th>\n",
       "      <th>crossing</th>\n",
       "      <th>...</th>\n",
       "      <th>vision</th>\n",
       "      <th>penalties</th>\n",
       "      <th>marking</th>\n",
       "      <th>standing_tackle</th>\n",
       "      <th>sliding_tackle</th>\n",
       "      <th>gk_diving</th>\n",
       "      <th>gk_handling</th>\n",
       "      <th>gk_kicking</th>\n",
       "      <th>gk_positioning</th>\n",
       "      <th>gk_reflexes</th>\n",
       "    </tr>\n",
       "  </thead>\n",
       "  <tbody>\n",
       "    <tr>\n",
       "      <th>0</th>\n",
       "      <td>1</td>\n",
       "      <td>218353</td>\n",
       "      <td>505942</td>\n",
       "      <td>2016-02-18 00:00:00</td>\n",
       "      <td>67.0</td>\n",
       "      <td>71.0</td>\n",
       "      <td>right</td>\n",
       "      <td>medium</td>\n",
       "      <td>medium</td>\n",
       "      <td>49.0</td>\n",
       "      <td>...</td>\n",
       "      <td>54.0</td>\n",
       "      <td>48.0</td>\n",
       "      <td>65.0</td>\n",
       "      <td>69.0</td>\n",
       "      <td>69.0</td>\n",
       "      <td>6.0</td>\n",
       "      <td>11.0</td>\n",
       "      <td>10.0</td>\n",
       "      <td>8.0</td>\n",
       "      <td>8.0</td>\n",
       "    </tr>\n",
       "    <tr>\n",
       "      <th>1</th>\n",
       "      <td>2</td>\n",
       "      <td>218353</td>\n",
       "      <td>505942</td>\n",
       "      <td>2015-11-19 00:00:00</td>\n",
       "      <td>67.0</td>\n",
       "      <td>71.0</td>\n",
       "      <td>right</td>\n",
       "      <td>medium</td>\n",
       "      <td>medium</td>\n",
       "      <td>49.0</td>\n",
       "      <td>...</td>\n",
       "      <td>54.0</td>\n",
       "      <td>48.0</td>\n",
       "      <td>65.0</td>\n",
       "      <td>69.0</td>\n",
       "      <td>69.0</td>\n",
       "      <td>6.0</td>\n",
       "      <td>11.0</td>\n",
       "      <td>10.0</td>\n",
       "      <td>8.0</td>\n",
       "      <td>8.0</td>\n",
       "    </tr>\n",
       "    <tr>\n",
       "      <th>2</th>\n",
       "      <td>3</td>\n",
       "      <td>218353</td>\n",
       "      <td>505942</td>\n",
       "      <td>2015-09-21 00:00:00</td>\n",
       "      <td>62.0</td>\n",
       "      <td>66.0</td>\n",
       "      <td>right</td>\n",
       "      <td>medium</td>\n",
       "      <td>medium</td>\n",
       "      <td>49.0</td>\n",
       "      <td>...</td>\n",
       "      <td>54.0</td>\n",
       "      <td>48.0</td>\n",
       "      <td>65.0</td>\n",
       "      <td>66.0</td>\n",
       "      <td>69.0</td>\n",
       "      <td>6.0</td>\n",
       "      <td>11.0</td>\n",
       "      <td>10.0</td>\n",
       "      <td>8.0</td>\n",
       "      <td>8.0</td>\n",
       "    </tr>\n",
       "    <tr>\n",
       "      <th>3</th>\n",
       "      <td>4</td>\n",
       "      <td>218353</td>\n",
       "      <td>505942</td>\n",
       "      <td>2015-03-20 00:00:00</td>\n",
       "      <td>61.0</td>\n",
       "      <td>65.0</td>\n",
       "      <td>right</td>\n",
       "      <td>medium</td>\n",
       "      <td>medium</td>\n",
       "      <td>48.0</td>\n",
       "      <td>...</td>\n",
       "      <td>53.0</td>\n",
       "      <td>47.0</td>\n",
       "      <td>62.0</td>\n",
       "      <td>63.0</td>\n",
       "      <td>66.0</td>\n",
       "      <td>5.0</td>\n",
       "      <td>10.0</td>\n",
       "      <td>9.0</td>\n",
       "      <td>7.0</td>\n",
       "      <td>7.0</td>\n",
       "    </tr>\n",
       "    <tr>\n",
       "      <th>4</th>\n",
       "      <td>5</td>\n",
       "      <td>218353</td>\n",
       "      <td>505942</td>\n",
       "      <td>2007-02-22 00:00:00</td>\n",
       "      <td>61.0</td>\n",
       "      <td>65.0</td>\n",
       "      <td>right</td>\n",
       "      <td>medium</td>\n",
       "      <td>medium</td>\n",
       "      <td>48.0</td>\n",
       "      <td>...</td>\n",
       "      <td>53.0</td>\n",
       "      <td>47.0</td>\n",
       "      <td>62.0</td>\n",
       "      <td>63.0</td>\n",
       "      <td>66.0</td>\n",
       "      <td>5.0</td>\n",
       "      <td>10.0</td>\n",
       "      <td>9.0</td>\n",
       "      <td>7.0</td>\n",
       "      <td>7.0</td>\n",
       "    </tr>\n",
       "  </tbody>\n",
       "</table>\n",
       "<p>5 rows × 42 columns</p>\n",
       "</div>"
      ],
      "text/plain": [
       "   id  player_fifa_api_id  player_api_id                 date  overall_rating  \\\n",
       "0   1              218353         505942  2016-02-18 00:00:00            67.0   \n",
       "1   2              218353         505942  2015-11-19 00:00:00            67.0   \n",
       "2   3              218353         505942  2015-09-21 00:00:00            62.0   \n",
       "3   4              218353         505942  2015-03-20 00:00:00            61.0   \n",
       "4   5              218353         505942  2007-02-22 00:00:00            61.0   \n",
       "\n",
       "   potential preferred_foot attacking_work_rate defensive_work_rate  crossing  \\\n",
       "0       71.0          right              medium              medium      49.0   \n",
       "1       71.0          right              medium              medium      49.0   \n",
       "2       66.0          right              medium              medium      49.0   \n",
       "3       65.0          right              medium              medium      48.0   \n",
       "4       65.0          right              medium              medium      48.0   \n",
       "\n",
       "   ...  vision  penalties  marking  standing_tackle  sliding_tackle  \\\n",
       "0  ...    54.0       48.0     65.0             69.0            69.0   \n",
       "1  ...    54.0       48.0     65.0             69.0            69.0   \n",
       "2  ...    54.0       48.0     65.0             66.0            69.0   \n",
       "3  ...    53.0       47.0     62.0             63.0            66.0   \n",
       "4  ...    53.0       47.0     62.0             63.0            66.0   \n",
       "\n",
       "   gk_diving  gk_handling  gk_kicking  gk_positioning  gk_reflexes  \n",
       "0        6.0         11.0        10.0             8.0          8.0  \n",
       "1        6.0         11.0        10.0             8.0          8.0  \n",
       "2        6.0         11.0        10.0             8.0          8.0  \n",
       "3        5.0         10.0         9.0             7.0          7.0  \n",
       "4        5.0         10.0         9.0             7.0          7.0  \n",
       "\n",
       "[5 rows x 42 columns]"
      ]
     },
     "execution_count": 3,
     "metadata": {},
     "output_type": "execute_result"
    }
   ],
   "source": [
    "df.head()"
   ]
  },
  {
   "cell_type": "code",
   "execution_count": 4,
   "id": "e01faad6",
   "metadata": {},
   "outputs": [],
   "source": [
    "df = df.dropna()"
   ]
  },
  {
   "cell_type": "code",
   "execution_count": 15,
   "id": "3ae888b0",
   "metadata": {},
   "outputs": [
    {
     "data": {
      "text/plain": [
       "Index(['id', 'player_fifa_api_id', 'player_api_id', 'date', 'overall_rating',\n",
       "       'potential', 'preferred_foot', 'attacking_work_rate',\n",
       "       'defensive_work_rate', 'crossing', 'finishing', 'heading_accuracy',\n",
       "       'short_passing', 'volleys', 'dribbling', 'curve', 'free_kick_accuracy',\n",
       "       'long_passing', 'ball_control', 'acceleration', 'sprint_speed',\n",
       "       'agility', 'reactions', 'balance', 'shot_power', 'jumping', 'stamina',\n",
       "       'strength', 'long_shots', 'aggression', 'interceptions', 'positioning',\n",
       "       'vision', 'penalties', 'marking', 'standing_tackle', 'sliding_tackle',\n",
       "       'gk_diving', 'gk_handling', 'gk_kicking', 'gk_positioning',\n",
       "       'gk_reflexes'],\n",
       "      dtype='object')"
      ]
     },
     "execution_count": 15,
     "metadata": {},
     "output_type": "execute_result"
    }
   ],
   "source": [
    "df.columns"
   ]
  },
  {
   "cell_type": "code",
   "execution_count": 68,
   "id": "597c6766",
   "metadata": {},
   "outputs": [
    {
     "data": {
      "text/plain": [
       "<matplotlib.lines.Line2D at 0x127df7f86a0>"
      ]
     },
     "execution_count": 68,
     "metadata": {},
     "output_type": "execute_result"
    },
    {
     "data": {
      "image/png": "[encoded data removed]",
      "text/plain": [
       "<Figure size 432x288 with 1 Axes>"
      ]
     },
     "metadata": {
      "needs_background": "light"
     },
     "output_type": "display_data"
    }
   ],
   "source": [
    "plt.scatter(df['id'][:10000],df['gk_diving'][:10000])\n",
    "plt.axhline(y = 50, color = 'r', linestyle = '-')"
   ]
  },
  {
   "cell_type": "markdown",
   "id": "ac1a177f",
   "metadata": {},
   "source": [
    "Creating mask to filter only the goalkeepers based on the attributes:\n",
    "- GK diving\n",
    "- GK handling\n",
    "- GK kicking\n",
    "- GK positioning\n",
    "- GK reflexes\n",
    "\n",
    "Goalkeepers with bad attributes are also filtered out."
   ]
  },
  {
   "cell_type": "code",
   "execution_count": 59,
   "id": "c87da788",
   "metadata": {},
   "outputs": [],
   "source": [
    "div_mask = df['gk_diving'] > 50\n",
    "han_mask = df['gk_handling'] > 50\n",
    "kic_mask = df['gk_kicking'] > 50\n",
    "pos_mask = df['gk_positioning'] > 50\n",
    "ref_mask = df['gk_reflexes'] > 50\n",
    "\n",
    "\n",
    "data = df[div_mask & han_mask & kic_mask & pos_mask & ref_mask].copy()"
   ]
  },
  {
   "cell_type": "code",
   "execution_count": 60,
   "id": "0f8ce2f0",
   "metadata": {},
   "outputs": [
    {
     "data": {
      "text/plain": [
       "(13374, 42)"
      ]
     },
     "execution_count": 60,
     "metadata": {},
     "output_type": "execute_result"
    }
   ],
   "source": [
    "data.shape"
   ]
  },
  {
   "cell_type": "code",
   "execution_count": 69,
   "id": "3d76c411",
   "metadata": {},
   "outputs": [
    {
     "data": {
      "text/plain": [
       "<matplotlib.lines.Line2D at 0x127e004e610>"
      ]
     },
     "execution_count": 69,
     "metadata": {},
     "output_type": "execute_result"
    },
    {
     "data": {
      "image/png": "[encoded data removed]",
      "text/plain": [
       "<Figure size 432x288 with 1 Axes>"
      ]
     },
     "metadata": {
      "needs_background": "light"
     },
     "output_type": "display_data"
    }
   ],
   "source": []
  },
  {
   "cell_type": "code",
   "execution_count": null,
   "id": "bbaaab71",
   "metadata": {},
   "outputs": [],
   "source": []
  },
  {
   "cell_type": "markdown",
   "id": "26c29f8c",
   "metadata": {},
   "source": [
    "Relevant attributes for free kicks:  \n",
    "- Free kick accuracy  \n",
    "- Shot power\n",
    "\n",
    "Creating a new attribute (free kick proficiency) to account for both power and accuracy in a weighted fashion:"
   ]
  },
  {
   "cell_type": "code",
   "execution_count": 61,
   "id": "8bfac11f",
   "metadata": {},
   "outputs": [],
   "source": [
    "data['fk_proficiency'] = (3*data['free_kick_accuracy'] + 2*data['shot_power'])/5"
   ]
  },
  {
   "cell_type": "markdown",
   "id": "4aa9564a",
   "metadata": {},
   "source": [
    "Creating a mask to find the proficient goalkeepers:"
   ]
  },
  {
   "cell_type": "code",
   "execution_count": 63,
   "id": "f6415caa",
   "metadata": {},
   "outputs": [
    {
     "data": {
      "text/html": [
       "<div>\n",
       "<style scoped>\n",
       "    .dataframe tbody tr th:only-of-type {\n",
       "        vertical-align: middle;\n",
       "    }\n",
       "\n",
       "    .dataframe tbody tr th {\n",
       "        vertical-align: top;\n",
       "    }\n",
       "\n",
       "    .dataframe thead th {\n",
       "        text-align: right;\n",
       "    }\n",
       "</style>\n",
       "<table border=\"1\" class=\"dataframe\">\n",
       "  <thead>\n",
       "    <tr style=\"text-align: right;\">\n",
       "      <th></th>\n",
       "      <th>id</th>\n",
       "      <th>player_fifa_api_id</th>\n",
       "      <th>player_api_id</th>\n",
       "      <th>date</th>\n",
       "      <th>overall_rating</th>\n",
       "      <th>potential</th>\n",
       "      <th>preferred_foot</th>\n",
       "      <th>attacking_work_rate</th>\n",
       "      <th>defensive_work_rate</th>\n",
       "      <th>crossing</th>\n",
       "      <th>...</th>\n",
       "      <th>penalties</th>\n",
       "      <th>marking</th>\n",
       "      <th>standing_tackle</th>\n",
       "      <th>sliding_tackle</th>\n",
       "      <th>gk_diving</th>\n",
       "      <th>gk_handling</th>\n",
       "      <th>gk_kicking</th>\n",
       "      <th>gk_positioning</th>\n",
       "      <th>gk_reflexes</th>\n",
       "      <th>fk_proficiency</th>\n",
       "    </tr>\n",
       "  </thead>\n",
       "  <tbody>\n",
       "    <tr>\n",
       "      <th>28853</th>\n",
       "      <td>28854</td>\n",
       "      <td>1219</td>\n",
       "      <td>34530</td>\n",
       "      <td>2007-02-22 00:00:00</td>\n",
       "      <td>85.0</td>\n",
       "      <td>88.0</td>\n",
       "      <td>right</td>\n",
       "      <td>medium</td>\n",
       "      <td>medium</td>\n",
       "      <td>9.0</td>\n",
       "      <td>...</td>\n",
       "      <td>77.0</td>\n",
       "      <td>9.0</td>\n",
       "      <td>8.0</td>\n",
       "      <td>9.0</td>\n",
       "      <td>85.0</td>\n",
       "      <td>84.0</td>\n",
       "      <td>78.0</td>\n",
       "      <td>84.0</td>\n",
       "      <td>86.0</td>\n",
       "      <td>72.6</td>\n",
       "    </tr>\n",
       "    <tr>\n",
       "      <th>36900</th>\n",
       "      <td>36901</td>\n",
       "      <td>192593</td>\n",
       "      <td>115184</td>\n",
       "      <td>2013-02-15 00:00:00</td>\n",
       "      <td>71.0</td>\n",
       "      <td>76.0</td>\n",
       "      <td>right</td>\n",
       "      <td>medium</td>\n",
       "      <td>medium</td>\n",
       "      <td>11.0</td>\n",
       "      <td>...</td>\n",
       "      <td>20.0</td>\n",
       "      <td>15.0</td>\n",
       "      <td>14.0</td>\n",
       "      <td>13.0</td>\n",
       "      <td>72.0</td>\n",
       "      <td>69.0</td>\n",
       "      <td>75.0</td>\n",
       "      <td>67.0</td>\n",
       "      <td>73.0</td>\n",
       "      <td>70.4</td>\n",
       "    </tr>\n",
       "    <tr>\n",
       "      <th>88913</th>\n",
       "      <td>88914</td>\n",
       "      <td>3974</td>\n",
       "      <td>30582</td>\n",
       "      <td>2007-02-22 00:00:00</td>\n",
       "      <td>76.0</td>\n",
       "      <td>82.0</td>\n",
       "      <td>right</td>\n",
       "      <td>medium</td>\n",
       "      <td>medium</td>\n",
       "      <td>18.0</td>\n",
       "      <td>...</td>\n",
       "      <td>92.0</td>\n",
       "      <td>24.0</td>\n",
       "      <td>22.0</td>\n",
       "      <td>29.0</td>\n",
       "      <td>74.0</td>\n",
       "      <td>71.0</td>\n",
       "      <td>83.0</td>\n",
       "      <td>76.0</td>\n",
       "      <td>85.0</td>\n",
       "      <td>72.4</td>\n",
       "    </tr>\n",
       "    <tr>\n",
       "      <th>92073</th>\n",
       "      <td>92074</td>\n",
       "      <td>48717</td>\n",
       "      <td>30989</td>\n",
       "      <td>2007-02-22 00:00:00</td>\n",
       "      <td>79.0</td>\n",
       "      <td>80.0</td>\n",
       "      <td>right</td>\n",
       "      <td>medium</td>\n",
       "      <td>medium</td>\n",
       "      <td>18.0</td>\n",
       "      <td>...</td>\n",
       "      <td>71.0</td>\n",
       "      <td>23.0</td>\n",
       "      <td>20.0</td>\n",
       "      <td>16.0</td>\n",
       "      <td>79.0</td>\n",
       "      <td>78.0</td>\n",
       "      <td>78.0</td>\n",
       "      <td>79.0</td>\n",
       "      <td>80.0</td>\n",
       "      <td>70.2</td>\n",
       "    </tr>\n",
       "    <tr>\n",
       "      <th>105130</th>\n",
       "      <td>105131</td>\n",
       "      <td>49472</td>\n",
       "      <td>34003</td>\n",
       "      <td>2007-02-22 00:00:00</td>\n",
       "      <td>76.0</td>\n",
       "      <td>82.0</td>\n",
       "      <td>left</td>\n",
       "      <td>medium</td>\n",
       "      <td>medium</td>\n",
       "      <td>12.0</td>\n",
       "      <td>...</td>\n",
       "      <td>74.0</td>\n",
       "      <td>11.0</td>\n",
       "      <td>11.0</td>\n",
       "      <td>11.0</td>\n",
       "      <td>77.0</td>\n",
       "      <td>74.0</td>\n",
       "      <td>82.0</td>\n",
       "      <td>74.0</td>\n",
       "      <td>79.0</td>\n",
       "      <td>73.6</td>\n",
       "    </tr>\n",
       "    <tr>\n",
       "      <th>160911</th>\n",
       "      <td>160912</td>\n",
       "      <td>111106</td>\n",
       "      <td>2984</td>\n",
       "      <td>2007-02-22 00:00:00</td>\n",
       "      <td>65.0</td>\n",
       "      <td>74.0</td>\n",
       "      <td>right</td>\n",
       "      <td>medium</td>\n",
       "      <td>medium</td>\n",
       "      <td>29.0</td>\n",
       "      <td>...</td>\n",
       "      <td>77.0</td>\n",
       "      <td>22.0</td>\n",
       "      <td>28.0</td>\n",
       "      <td>25.0</td>\n",
       "      <td>64.0</td>\n",
       "      <td>63.0</td>\n",
       "      <td>57.0</td>\n",
       "      <td>63.0</td>\n",
       "      <td>63.0</td>\n",
       "      <td>70.2</td>\n",
       "    </tr>\n",
       "    <tr>\n",
       "      <th>163237</th>\n",
       "      <td>163238</td>\n",
       "      <td>153297</td>\n",
       "      <td>26335</td>\n",
       "      <td>2007-02-22 00:00:00</td>\n",
       "      <td>70.0</td>\n",
       "      <td>74.0</td>\n",
       "      <td>right</td>\n",
       "      <td>medium</td>\n",
       "      <td>medium</td>\n",
       "      <td>28.0</td>\n",
       "      <td>...</td>\n",
       "      <td>82.0</td>\n",
       "      <td>2.0</td>\n",
       "      <td>45.0</td>\n",
       "      <td>11.0</td>\n",
       "      <td>66.0</td>\n",
       "      <td>74.0</td>\n",
       "      <td>67.0</td>\n",
       "      <td>66.0</td>\n",
       "      <td>71.0</td>\n",
       "      <td>76.4</td>\n",
       "    </tr>\n",
       "  </tbody>\n",
       "</table>\n",
       "<p>7 rows × 43 columns</p>\n",
       "</div>"
      ],
      "text/plain": [
       "            id  player_fifa_api_id  player_api_id                 date  \\\n",
       "28853    28854                1219          34530  2007-02-22 00:00:00   \n",
       "36900    36901              192593         115184  2013-02-15 00:00:00   \n",
       "88913    88914                3974          30582  2007-02-22 00:00:00   \n",
       "92073    92074               48717          30989  2007-02-22 00:00:00   \n",
       "105130  105131               49472          34003  2007-02-22 00:00:00   \n",
       "160911  160912              111106           2984  2007-02-22 00:00:00   \n",
       "163237  163238              153297          26335  2007-02-22 00:00:00   \n",
       "\n",
       "        overall_rating  potential preferred_foot attacking_work_rate  \\\n",
       "28853             85.0       88.0          right              medium   \n",
       "36900             71.0       76.0          right              medium   \n",
       "88913             76.0       82.0          right              medium   \n",
       "92073             79.0       80.0          right              medium   \n",
       "105130            76.0       82.0           left              medium   \n",
       "160911            65.0       74.0          right              medium   \n",
       "163237            70.0       74.0          right              medium   \n",
       "\n",
       "       defensive_work_rate  crossing  ...  penalties  marking  \\\n",
       "28853               medium       9.0  ...       77.0      9.0   \n",
       "36900               medium      11.0  ...       20.0     15.0   \n",
       "88913               medium      18.0  ...       92.0     24.0   \n",
       "92073               medium      18.0  ...       71.0     23.0   \n",
       "105130              medium      12.0  ...       74.0     11.0   \n",
       "160911              medium      29.0  ...       77.0     22.0   \n",
       "163237              medium      28.0  ...       82.0      2.0   \n",
       "\n",
       "        standing_tackle  sliding_tackle  gk_diving  gk_handling  gk_kicking  \\\n",
       "28853               8.0             9.0       85.0         84.0        78.0   \n",
       "36900              14.0            13.0       72.0         69.0        75.0   \n",
       "88913              22.0            29.0       74.0         71.0        83.0   \n",
       "92073              20.0            16.0       79.0         78.0        78.0   \n",
       "105130             11.0            11.0       77.0         74.0        82.0   \n",
       "160911             28.0            25.0       64.0         63.0        57.0   \n",
       "163237             45.0            11.0       66.0         74.0        67.0   \n",
       "\n",
       "        gk_positioning  gk_reflexes  fk_proficiency  \n",
       "28853             84.0         86.0            72.6  \n",
       "36900             67.0         73.0            70.4  \n",
       "88913             76.0         85.0            72.4  \n",
       "92073             79.0         80.0            70.2  \n",
       "105130            74.0         79.0            73.6  \n",
       "160911            63.0         63.0            70.2  \n",
       "163237            66.0         71.0            76.4  \n",
       "\n",
       "[7 rows x 43 columns]"
      ]
     },
     "execution_count": 63,
     "metadata": {},
     "output_type": "execute_result"
    }
   ],
   "source": [
    "gk_takers = data['fk_proficiency'] > 70\n",
    "\n",
    "data[gk_takers]"
   ]
  },
  {
   "cell_type": "code",
   "execution_count": 70,
   "id": "e7404957",
   "metadata": {},
   "outputs": [
    {
     "data": {
      "text/plain": [
       "<matplotlib.lines.Line2D at 0x127e05144f0>"
      ]
     },
     "execution_count": 70,
     "metadata": {},
     "output_type": "execute_result"
    },
    {
     "data": {
      "image/png": "[encoded data removed]",
      "text/plain": [
       "<Figure size 432x288 with 1 Axes>"
      ]
     },
     "metadata": {
      "needs_background": "light"
     },
     "output_type": "display_data"
    }
   ],
   "source": [
    "plt.scatter(data['id'][:10000], data['fk_proficiency'][:10000])\n",
    "plt.axhline(y = 70, color = 'r', linestyle = '-')"
   ]
  },
  {
   "cell_type": "markdown",
   "id": "904cb28f",
   "metadata": {},
   "source": [
    "We found 7 goalkeepers who also could potentially take free kicks in matches. Through their FIFA player ID, these players can be identified.\n",
    "\n",
    "According to fifaindex.com, these are the players we found:\n",
    "\n",
    "| FIFA player ID | Player Name | Team | Overall | Game edition|\n",
    "|:--------------:|:-----------:|:----:|:-------:|:-----------:|\n",
    "|1219| Christian Abbiati | Torino FC (ITA) | 85 | FIFA 07 |\n",
    "|192593| Danijel Subašić | AS Monaco FC (FRA) | 71 | FIFA 13 |\n",
    "|3974| José Moreira | SL Benfica (POR) | 76 | FIFA 07 |\n",
    "|48717| Júlio César | Inter Milan (ITA) | 79 | FIFA 07|\n",
    "|49472| Ludovic Butelle | Valencia CF (SPA) | 75 | FIFA 07 |\n",
    "|111106| Sergio Aragoneses | Hércules CF (SPA) | 64 | FIFA 07 |\n",
    "|153297| Simon Pouplin | Stade Rennais FC (FRA) | 70 | FIFA 07 |"
   ]
  },
  {
   "cell_type": "code",
   "execution_count": null,
   "id": "06eff625",
   "metadata": {},
   "outputs": [],
   "source": []
  }
 ],
 "metadata": {
  "kernelspec": {
   "display_name": "Python 3",
   "language": "python",
   "name": "python3"
  },
  "language_info": {
   "codemirror_mode": {
    "name": "ipython",
    "version": 3
   },
   "file_extension": ".py",
   "mimetype": "text/x-python",
   "name": "python",
   "nbconvert_exporter": "python",
   "pygments_lexer": "ipython3",
   "version": "3.8.8"
  }
 },
 "nbformat": 4,
 "nbformat_minor": 5
}
